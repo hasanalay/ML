{
  "nbformat": 4,
  "nbformat_minor": 5,
  "metadata": {
    "kernelspec": {
      "display_name": "Python 3.8.8 64-bit ('base': conda)",
      "language": "python",
      "name": "python388jvsc74a57bd07f74791b0662e288a06bf62c711c57785fb1cb012ebd28c1a98fac796baf325e"
    },
    "language_info": {
      "codemirror_mode": {
        "name": "ipython",
        "version": 3
      },
      "file_extension": ".py",
      "mimetype": "text/x-python",
      "name": "python",
      "nbconvert_exporter": "python",
      "pygments_lexer": "ipython3",
      "version": "3.8.8"
    },
    "colab": {
      "name": "zaman-serisi-pratik.ipynb",
      "provenance": [],
      "collapsed_sections": [],
      "include_colab_link": true
    }
  },
  "cells": [
    {
      "cell_type": "markdown",
      "metadata": {
        "id": "view-in-github",
        "colab_type": "text"
      },
      "source": [
        "<a href=\"https://colab.research.google.com/github/hasanalay/ML/blob/main/zaman_serisi_pratik.ipynb\" target=\"_parent\"><img src=\"https://colab.research.google.com/assets/colab-badge.svg\" alt=\"Open In Colab\"/></a>"
      ]
    },
    {
      "cell_type": "markdown",
      "metadata": {
        "id": "75130305-0dd6-4370-94e1-05bd00ccbd4d"
      },
      "source": [
        "# Time Series Analysis with Prophet\n",
        "\n",
        "Prophet kütüphanesi, tek değişkenli zaman serisi veri kümeleri için tahminler yapmak için tasarlanmış açık kaynaklı bir kütüphanedir. Kullanımı kolaydır ve varsayılan olarak trendler ve mevsimsel yapıya sahip veriler için tahminler yapmak amacıyla model için iyi bir hiperparametre kümesini otomatik olarak bulmak üzere tasarlanmıştır.\n",
        "\n",
        "## Kurulumlar\n",
        "\n",
        "Bu projeyi gerceklestirmek icin asagidaki kutuphanelere ihtiyaciniz vardir:\n",
        "- fbprophet\n",
        "- pandas\n",
        "- matplotlib\n",
        "- plotly (Zorunlu degil fakat prophet bazi durumlarda ihtiyaci olacak)\n",
        "- scikit-learn\n",
        "\n",
        "Gerekli kutuphane kurulumlarini asagidaki kod satirini calistirarak tamamlayabilirsiniz.\n",
        "\n",
        "`pip install fbprophet pandas matplotlib plotly scikit-learn`\n",
        "\n",
        "## Dataset\n",
        "\n",
        "[Monthly Car Sales Dataset](https://raw.githubusercontent.com/jbrownlee/Datasets/master/monthly-car-sales.csv)\n",
        "\n",
        "Ayni zamanda [bu linkten](https://github.com/jbrownlee/Datasets/) onlarca farkli datasete ulasabilirsiniz\n",
        "\n",
        "## Kaynak\n",
        "Machine Learning Mastery Facebook Prophet ile basit zaman serisi egitimi. [Kaynak](https://machinelearningmastery.com/time-series-forecasting-with-prophet-in-python/)"
      ],
      "id": "75130305-0dd6-4370-94e1-05bd00ccbd4d"
    },
    {
      "cell_type": "markdown",
      "metadata": {
        "id": "d59101c6-9b34-4d9d-90d6-e5508475ddca"
      },
      "source": [
        "# Baslayalim"
      ],
      "id": "d59101c6-9b34-4d9d-90d6-e5508475ddca"
    },
    {
      "cell_type": "markdown",
      "metadata": {
        "id": "db51733a-72b3-44bc-886b-8f029c61feea"
      },
      "source": [
        "Elimizdeki dataseti uc farkli sekilde inceleyecegiz: \n",
        "- oncelikle modelin egitildi veri seti ile egiterek modelin genel performansina bakacagiz\n",
        "- elimizdeki orneklerle gelecek yil icin bir tahminde bulunacagiz\n",
        "- elimizdeki verinin son bir yilini test icin ayirip bu kismi tahmin edip gercek degerler ile karsilastiracagiz"
      ],
      "id": "db51733a-72b3-44bc-886b-8f029c61feea"
    },
    {
      "cell_type": "markdown",
      "metadata": {
        "id": "fc8c2f6d-29ac-453f-8b9b-18493306c843"
      },
      "source": [
        "### Verinin Iceri Aktarilmasi\n",
        "\n",
        "Aylık araba satışları veri setini kullanacağız.\n",
        "\n",
        "Hem trend hem de mevsimsellik içeren standart bir tek değişkenli zaman serisi veri setidir. Veri kümesi 108 aylık veriye sahiptir."
      ],
      "id": "fc8c2f6d-29ac-453f-8b9b-18493306c843"
    },
    {
      "cell_type": "code",
      "metadata": {
        "colab": {
          "base_uri": "https://localhost:8080/"
        },
        "id": "orUT3PUZoBjn",
        "outputId": "a7e6e062-dd09-4b3b-81ae-fb3127d16258"
      },
      "source": [
        "pip install fbprophet pandas matplotlib plotly scikit-learn"
      ],
      "id": "orUT3PUZoBjn",
      "execution_count": 12,
      "outputs": [
        {
          "output_type": "stream",
          "name": "stdout",
          "text": [
            "Requirement already satisfied: fbprophet in /usr/local/lib/python3.7/dist-packages (0.7.1)\n",
            "Requirement already satisfied: pandas in /usr/local/lib/python3.7/dist-packages (1.1.5)\n",
            "Requirement already satisfied: matplotlib in /usr/local/lib/python3.7/dist-packages (3.2.2)\n",
            "Requirement already satisfied: plotly in /usr/local/lib/python3.7/dist-packages (4.4.1)\n",
            "Requirement already satisfied: scikit-learn in /usr/local/lib/python3.7/dist-packages (1.0.1)\n",
            "Requirement already satisfied: Cython>=0.22 in /usr/local/lib/python3.7/dist-packages (from fbprophet) (0.29.24)\n",
            "Requirement already satisfied: cmdstanpy==0.9.5 in /usr/local/lib/python3.7/dist-packages (from fbprophet) (0.9.5)\n",
            "Requirement already satisfied: pystan>=2.14 in /usr/local/lib/python3.7/dist-packages (from fbprophet) (2.19.1.1)\n",
            "Requirement already satisfied: numpy>=1.15.4 in /usr/local/lib/python3.7/dist-packages (from fbprophet) (1.19.5)\n",
            "Requirement already satisfied: LunarCalendar>=0.0.9 in /usr/local/lib/python3.7/dist-packages (from fbprophet) (0.0.9)\n",
            "Requirement already satisfied: convertdate>=2.1.2 in /usr/local/lib/python3.7/dist-packages (from fbprophet) (2.3.2)\n",
            "Requirement already satisfied: holidays>=0.10.2 in /usr/local/lib/python3.7/dist-packages (from fbprophet) (0.10.5.2)\n",
            "Requirement already satisfied: setuptools-git>=1.2 in /usr/local/lib/python3.7/dist-packages (from fbprophet) (1.2)\n",
            "Requirement already satisfied: python-dateutil>=2.8.0 in /usr/local/lib/python3.7/dist-packages (from fbprophet) (2.8.2)\n",
            "Requirement already satisfied: tqdm>=4.36.1 in /usr/local/lib/python3.7/dist-packages (from fbprophet) (4.62.3)\n",
            "Requirement already satisfied: pytz>=2017.2 in /usr/local/lib/python3.7/dist-packages (from pandas) (2018.9)\n",
            "Requirement already satisfied: kiwisolver>=1.0.1 in /usr/local/lib/python3.7/dist-packages (from matplotlib) (1.3.2)\n",
            "Requirement already satisfied: pyparsing!=2.0.4,!=2.1.2,!=2.1.6,>=2.0.1 in /usr/local/lib/python3.7/dist-packages (from matplotlib) (3.0.6)\n",
            "Requirement already satisfied: cycler>=0.10 in /usr/local/lib/python3.7/dist-packages (from matplotlib) (0.11.0)\n",
            "Requirement already satisfied: pymeeus<=1,>=0.3.13 in /usr/local/lib/python3.7/dist-packages (from convertdate>=2.1.2->fbprophet) (0.5.11)\n",
            "Requirement already satisfied: korean-lunar-calendar in /usr/local/lib/python3.7/dist-packages (from holidays>=0.10.2->fbprophet) (0.2.1)\n",
            "Requirement already satisfied: hijri-converter in /usr/local/lib/python3.7/dist-packages (from holidays>=0.10.2->fbprophet) (2.2.2)\n",
            "Requirement already satisfied: six in /usr/local/lib/python3.7/dist-packages (from holidays>=0.10.2->fbprophet) (1.15.0)\n",
            "Requirement already satisfied: ephem>=3.7.5.3 in /usr/local/lib/python3.7/dist-packages (from LunarCalendar>=0.0.9->fbprophet) (4.1)\n",
            "Requirement already satisfied: retrying>=1.3.3 in /usr/local/lib/python3.7/dist-packages (from plotly) (1.3.3)\n",
            "Requirement already satisfied: scipy>=1.1.0 in /usr/local/lib/python3.7/dist-packages (from scikit-learn) (1.4.1)\n",
            "Requirement already satisfied: threadpoolctl>=2.0.0 in /usr/local/lib/python3.7/dist-packages (from scikit-learn) (3.0.0)\n",
            "Requirement already satisfied: joblib>=0.11 in /usr/local/lib/python3.7/dist-packages (from scikit-learn) (1.1.0)\n"
          ]
        }
      ]
    },
    {
      "cell_type": "code",
      "metadata": {
        "id": "08d293bd-6ea9-4a86-b816-9526c3b55b3d",
        "colab": {
          "base_uri": "https://localhost:8080/"
        },
        "outputId": "ef396f52-176a-41e5-d0e1-b5e89a2cf36f"
      },
      "source": [
        "import pandas as pd\n",
        "path = 'https://raw.githubusercontent.com/jbrownlee/Datasets/master/monthly-car-sales.csv'\n",
        "df = pd.read_csv(path, header = 0)\n",
        "\n",
        "print(df.shape)\n",
        "print(df.head())"
      ],
      "id": "08d293bd-6ea9-4a86-b816-9526c3b55b3d",
      "execution_count": 13,
      "outputs": [
        {
          "output_type": "stream",
          "name": "stdout",
          "text": [
            "(108, 2)\n",
            "     Month  Sales\n",
            "0  1960-01   6550\n",
            "1  1960-02   8728\n",
            "2  1960-03  12026\n",
            "3  1960-04  14395\n",
            "4  1960-05  14587\n"
          ]
        }
      ]
    },
    {
      "cell_type": "markdown",
      "metadata": {
        "id": "d3394641-886e-4b5f-8319-e567b5e2aef7"
      },
      "source": [
        "### Verinin Gorsellestirilmesi\n",
        "\n",
        "Bir zaman serisini çizmek, aslında bir trend, mevsimsel bir döngü, aykırı değerler ve daha fazlası olup olmadığını görmemize yardımcı olur. Bize veriler için bir fikir verir."
      ],
      "id": "d3394641-886e-4b5f-8319-e567b5e2aef7"
    },
    {
      "cell_type": "code",
      "metadata": {
        "id": "3e931440-0204-4e56-a1df-dc3b0dc8e1f7",
        "colab": {
          "base_uri": "https://localhost:8080/",
          "height": 265
        },
        "outputId": "c0c92f3a-8758-4536-b110-500ab509e779"
      },
      "source": [
        "from matplotlib import pyplot\n",
        "\n",
        "df.plot()\n",
        "pyplot.show()"
      ],
      "id": "3e931440-0204-4e56-a1df-dc3b0dc8e1f7",
      "execution_count": 14,
      "outputs": [
        {
          "output_type": "display_data",
          "data": {
            "image/png": "[encoded data removed]",
            "text/plain": [
              "<Figure size 432x288 with 1 Axes>"
            ]
          },
          "metadata": {
            "needs_background": "light"
          }
        }
      ]
    },
    {
      "cell_type": "markdown",
      "metadata": {
        "id": "e1baf44d-f983-4484-8a60-e7fb0bf7016d"
      },
      "source": [
        "Satışların zaman içindeki eğilimini ve satışlarda aylık mevsimsel bir deseni açıkça görebiliriz. Bunlar, tahmin modelinin dikkate almasını beklediğimiz kalıplardır."
      ],
      "id": "e1baf44d-f983-4484-8a60-e7fb0bf7016d"
    },
    {
      "cell_type": "markdown",
      "metadata": {
        "id": "b011f7c3-71c9-4e70-9d0e-9dab141167e9"
      },
      "source": [
        "### Veri Tipi Donusumu"
      ],
      "id": "b011f7c3-71c9-4e70-9d0e-9dab141167e9"
    },
    {
      "cell_type": "markdown",
      "metadata": {
        "id": "a2c74aa0-5f1e-4613-ab9d-056b7f70190e"
      },
      "source": [
        "DataFrame belirli biçimi olmalıdır. İlk sütun **ds** adına sahip olmalı ve tarih-saatleri içermelidir. İkinci sütun **y** adına sahip olmalı ve gözlemleri içermelidir."
      ],
      "id": "a2c74aa0-5f1e-4613-ab9d-056b7f70190e"
    },
    {
      "cell_type": "code",
      "metadata": {
        "scrolled": true,
        "id": "865874fc-7a15-4871-a053-9ae3d82774c4",
        "colab": {
          "base_uri": "https://localhost:8080/"
        },
        "outputId": "7676a836-0214-4fd7-eaa4-ee987479393a"
      },
      "source": [
        "df.dtypes             #date stunundaki veri tipini objec'ten datetime formatına çerimemiz gerek."
      ],
      "id": "865874fc-7a15-4871-a053-9ae3d82774c4",
      "execution_count": 15,
      "outputs": [
        {
          "output_type": "execute_result",
          "data": {
            "text/plain": [
              "Month    object\n",
              "Sales     int64\n",
              "dtype: object"
            ]
          },
          "metadata": {},
          "execution_count": 15
        }
      ]
    },
    {
      "cell_type": "code",
      "metadata": {
        "id": "32ecfbe2"
      },
      "source": [
        "df.columns = ['ds', 'y']                      \n",
        "df['ds']= pd.to_datetime(df['ds'])          # burada gerekli dönüşümü yaptık"
      ],
      "id": "32ecfbe2",
      "execution_count": 16,
      "outputs": []
    },
    {
      "cell_type": "code",
      "metadata": {
        "id": "25a45d65",
        "colab": {
          "base_uri": "https://localhost:8080/"
        },
        "outputId": "908a20f1-b270-4cc4-8862-22b3fa0e4cb6"
      },
      "source": [
        "df.dtypes"
      ],
      "id": "25a45d65",
      "execution_count": 17,
      "outputs": [
        {
          "output_type": "execute_result",
          "data": {
            "text/plain": [
              "ds    datetime64[ns]\n",
              "y              int64\n",
              "dtype: object"
            ]
          },
          "metadata": {},
          "execution_count": 17
        }
      ]
    },
    {
      "cell_type": "markdown",
      "metadata": {
        "id": "11bcaaec-16f9-446e-b17c-dbdaa3c5c01d"
      },
      "source": [
        "### Modelin Olusturulmasi"
      ],
      "id": "11bcaaec-16f9-446e-b17c-dbdaa3c5c01d"
    },
    {
      "cell_type": "markdown",
      "metadata": {
        "tags": [],
        "id": "4d777700-5fe8-4df5-8c0b-07abe7b9031b"
      },
      "source": [
        "Prophet'i tahmin için kullanmak için, önce bir Prophet() nesnesi tanımlanır ve yapılandırılır, ardından fit() işlevi çağrılarak ve veriler geçirilerek veri kümesine sığdırılır.\n",
        "\n",
        "Model hemen hemen her şeyi otomatik olarak çözmek için çalışacaktır."
      ],
      "id": "4d777700-5fe8-4df5-8c0b-07abe7b9031b"
    },
    {
      "cell_type": "code",
      "metadata": {
        "id": "0d2ad293-3761-4ade-bcdf-8d8e9acd65e7",
        "colab": {
          "base_uri": "https://localhost:8080/"
        },
        "outputId": "2156e85a-e389-417b-92e4-10d022fb90c3"
      },
      "source": [
        "from fbprophet import Prophet\n",
        "model = Prophet()\n",
        "model.fit(df)"
      ],
      "id": "0d2ad293-3761-4ade-bcdf-8d8e9acd65e7",
      "execution_count": 18,
      "outputs": [
        {
          "output_type": "stream",
          "name": "stderr",
          "text": [
            "INFO:fbprophet:Disabling weekly seasonality. Run prophet with weekly_seasonality=True to override this.\n",
            "INFO:fbprophet:Disabling daily seasonality. Run prophet with daily_seasonality=True to override this.\n"
          ]
        },
        {
          "output_type": "execute_result",
          "data": {
            "text/plain": [
              "<fbprophet.forecaster.Prophet at 0x7f9886d0b090>"
            ]
          },
          "metadata": {},
          "execution_count": 18
        }
      ]
    },
    {
      "cell_type": "markdown",
      "metadata": {
        "id": "3f33c27f-9bce-4cd9-8b16-34da89d1338a"
      },
      "source": [
        "## Ornek Ici Tahmin Yapmak\n",
        "\n",
        "Geçmiş veriler üzerinden bir tahmin yapmak faydalı olabilir.\n",
        "\n",
        "Yani, modeli eğitmek için girdi olarak kullanılan veriler üzerinde bir tahmin yapabiliriz. İdeal olarak, model verileri daha önce görmüştür ve mükemmel bir tahminde bulunur.\n",
        "\n",
        "Buna örnek içi (eğitim kümesi örneğinde) tahmin yapmak denir ve sonuçların gözden geçirilmesi modelin ne kadar iyi olduğuna dair fikir verebilir. Yani eğitim verilerini ne kadar iyi öğrendiğidir.\n",
        "\n",
        "predict() işlevi çağrılarak ve tahmin edilecek tüm aralıklar için 'ds' adlı bir sütun ve tarih-saat içeren satırlar içeren bir DataFrame geçirilerek bir tahmin yapılır.\n",
        "\n",
        "Bu \"tahmin\" DataFrame'i yaratmanın birçok yolu vardır. Bu durumda, bir yıllık tarihler arasında döngü yapacağız, ör. veri kümesindeki son 12 ay ve her ay için bir dize oluşturun. Daha sonra tarih listesini bir DataFrame'e dönüştüreceğiz ve dize değerlerini tarih-saat nesnelerine dönüştüreceğiz."
      ],
      "id": "3f33c27f-9bce-4cd9-8b16-34da89d1338a"
    },
    {
      "cell_type": "code",
      "metadata": {
        "id": "9d73f79b-e1ed-46c1-bbc3-cc2036591481"
      },
      "source": [
        "future = list()\n",
        "\n",
        "for i in range(1, 13):\n",
        "    date = '1968-%02d' % i\n",
        "    future.append([date])\n",
        "    \n",
        "future = pd.DataFrame(future)\n",
        "future.columns = ['ds']\n",
        "future['ds']= pd.to_datetime(future['ds'])\n",
        "forecast = model.predict(future)\n"
      ],
      "id": "9d73f79b-e1ed-46c1-bbc3-cc2036591481",
      "execution_count": 19,
      "outputs": []
    },
    {
      "cell_type": "code",
      "metadata": {
        "colab": {
          "base_uri": "https://localhost:8080/"
        },
        "id": "3D3Z8KPmno4l",
        "outputId": "781f01fc-8161-4707-a4ee-fd61def29422"
      },
      "source": [
        "print(forecast[['ds', 'yhat', 'yhat_lower', 'yhat_upper']].head())"
      ],
      "id": "3D3Z8KPmno4l",
      "execution_count": 20,
      "outputs": [
        {
          "output_type": "stream",
          "name": "stdout",
          "text": [
            "          ds          yhat    yhat_lower    yhat_upper\n",
            "0 1968-01-01  14334.737769  12798.021806  15925.903820\n",
            "1 1968-02-01  14905.955964  13269.465113  16410.266936\n",
            "2 1968-03-01  20842.150502  19137.147074  22391.886490\n",
            "3 1968-04-01  22870.095215  21414.431667  24421.026030\n",
            "4 1968-05-01  24176.211162  22623.884076  25758.067725\n"
          ]
        }
      ]
    },
    {
      "cell_type": "code",
      "metadata": {
        "colab": {
          "base_uri": "https://localhost:8080/",
          "height": 441
        },
        "id": "xfZKmehqntFT",
        "outputId": "7bda707a-1242-437a-a25e-d7acf2c6a85b"
      },
      "source": [
        "model.plot(forecast)\n",
        "pyplot.show()"
      ],
      "id": "xfZKmehqntFT",
      "execution_count": 21,
      "outputs": [
        {
          "output_type": "display_data",
          "data": {
            "image/png": "[encoded data removed]",
            "text/plain": [
              "<Figure size 720x432 with 1 Axes>"
            ]
          },
          "metadata": {}
        }
      ]
    },
    {
      "cell_type": "markdown",
      "metadata": {
        "id": "27f4b942-2c67-446f-b1c2-d3f8192fbfa2"
      },
      "source": [
        "predict() işlevinin sonucu, birçok sütun içeren bir DataFrame'dir. \n",
        "\n",
        "En önemli sütunlar:\n",
        "- tahmin tarih saat **('ds')** \n",
        "- tahmin değeri **('yhat')** \n",
        "- tahmin edilen değerin üzerinde alt ve üst sınırları **('yhat_lower' ve 'yhat_upper')**\n",
        "\n",
        "Örneğin, ilk birkaç tahmini şu şekilde yazdırabiliriz:"
      ],
      "id": "27f4b942-2c67-446f-b1c2-d3f8192fbfa2"
    },
    {
      "cell_type": "code",
      "metadata": {
        "id": "474decdf-4cbb-4e7c-9253-d8c9b7adcc4e",
        "colab": {
          "base_uri": "https://localhost:8080/"
        },
        "outputId": "02e4634b-5ce7-4786-93dd-78d421e1a883"
      },
      "source": [
        "future = list()\n",
        "\n",
        "for i in range(1, 13):\n",
        "    date = '1969-%02d' % i\n",
        "    future.append([date])\n",
        "    \n",
        "future = pd.DataFrame(future)\n",
        "future.columns = ['ds']\n",
        "future['ds']= pd.to_datetime(future['ds'])\n",
        "\n",
        "forecast = model.predict(future)\n",
        "print(forecast[['ds', 'yhat', 'yhat_lower', 'yhat_upper']].head())\n"
      ],
      "id": "474decdf-4cbb-4e7c-9253-d8c9b7adcc4e",
      "execution_count": 23,
      "outputs": [
        {
          "output_type": "stream",
          "name": "stdout",
          "text": [
            "          ds          yhat    yhat_lower    yhat_upper\n",
            "0 1969-01-01  15375.960093  13806.678177  16823.401736\n",
            "1 1969-02-01  16142.271673  14582.962073  17771.117492\n",
            "2 1969-03-01  21351.832640  19789.944403  22932.907645\n",
            "3 1969-04-01  23477.889811  21814.936451  24973.533303\n",
            "4 1969-05-01  24988.440907  23415.109645  26555.306929\n"
          ]
        }
      ]
    },
    {
      "cell_type": "markdown",
      "metadata": {
        "id": "72758cdc-d545-4f8b-938f-3d56b998affe"
      },
      "source": [
        "### Tahminlerin Cizdirilmesi\n",
        "\n",
        "Bu, modelde plot() işlevi çağrılarak ve bir sonuç DataFrame'e aktarilarak elde edilebilir. \n",
        "\n",
        "Asagidaki kod eğitim veri kümesinin bir grafiğini oluşturacak ve tahmin, tahmin tarihleri için üst ve alt sınırlarli gosterecektir."
      ],
      "id": "72758cdc-d545-4f8b-938f-3d56b998affe"
    },
    {
      "cell_type": "code",
      "metadata": {
        "id": "a1058885-8803-457d-92d1-711494602adf",
        "colab": {
          "base_uri": "https://localhost:8080/",
          "height": 441
        },
        "outputId": "ce2430be-91a3-4a90-d22c-9bf336f89ec0"
      },
      "source": [
        "model.plot(forecast)\n",
        "pyplot.show()"
      ],
      "id": "a1058885-8803-457d-92d1-711494602adf",
      "execution_count": 24,
      "outputs": [
        {
          "output_type": "display_data",
          "data": {
            "image/png": "[encoded data removed]",
            "text/plain": [
              "<Figure size 720x432 with 1 Axes>"
            ]
          },
          "metadata": {}
        }
      ]
    },
    {
      "cell_type": "markdown",
      "metadata": {
        "id": "c39db8b1-6814-4423-aa1b-7b9066b3b14a"
      },
      "source": [
        "## Ornek Disi Tahmin Yapmak\n",
        "\n",
        "Pratikte, eğitim verilerinin ötesinde bir tahmin yapmak için bir tahmin modeli isteriz.\n",
        "\n",
        "Buna örnek dışı tahmin denir.\n",
        "\n",
        "Bunu bir örnek içi tahminle aynı şekilde başarabilir ve basitçe farklı bir tahmin dönemi belirleyebiliriz.\n",
        "\n",
        "Bu durumda, 1969-01'den başlayarak eğitim veri kümesinin sonunun ötesinde bir dönem tahmin etmeyi deneyelim."
      ],
      "id": "c39db8b1-6814-4423-aa1b-7b9066b3b14a"
    },
    {
      "cell_type": "code",
      "metadata": {
        "id": "04a08439-3143-476d-8063-81e11e8d694b"
      },
      "source": [
        ""
      ],
      "id": "04a08439-3143-476d-8063-81e11e8d694b",
      "execution_count": null,
      "outputs": []
    },
    {
      "cell_type": "markdown",
      "metadata": {
        "id": "13854a7e-6952-4f62-8ef1-72a4902889ab"
      },
      "source": [
        "## Modeli Manuel Degerlendirmek\n",
        "\n",
        "Bir tahmin modelinin performansının objektif bir tahminini geliştirmek çok önemlidir.\n",
        "\n",
        "Bu, son 12 ay gibi bazı verileri modelden uzak tutarak başarılabilir. Ardından, modelin verilerin ilk kısmına uydurulması, tutulan paket kısmı üzerinde tahminler yapmak için kullanılması ve tahminlerdeki ortalama mutlak hata gibi bir hata ölçüsünün hesaplanması. Örneğin, simüle edilmiş bir örneklem dışı tahmin.\n",
        "\n",
        "Skor, örneklem dışı bir tahmin yaparken modelin ortalama olarak ne kadar iyi performans göstermesini bekleyebileceğimize dair bir tahmin verir.\n",
        "\n",
        "Bunu , son 12 ayı kaldırılmış eğitim için yeni bir DataFrame oluşturarak örnek verilerle yapabiliriz ."
      ],
      "id": "13854a7e-6952-4f62-8ef1-72a4902889ab"
    },
    {
      "cell_type": "code",
      "metadata": {
        "id": "df6aadc4-c09f-47ff-8178-9ab25ee1003a"
      },
      "source": [
        ""
      ],
      "id": "df6aadc4-c09f-47ff-8178-9ab25ee1003a",
      "execution_count": null,
      "outputs": []
    },
    {
      "cell_type": "markdown",
      "metadata": {
        "id": "c14dd21e-46c2-403d-b875-8f517c2d2e24"
      },
      "source": [
        "## [kaynak](https://www.youtube.com/watch?v=gX6nZ7IINu8&t=42s)"
      ],
      "id": "c14dd21e-46c2-403d-b875-8f517c2d2e24"
    }
  ]
}